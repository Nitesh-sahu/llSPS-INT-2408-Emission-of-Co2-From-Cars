{
 "cells": [
  {
   "cell_type": "markdown",
   "metadata": {},
   "source": [
    "# import libraries"
   ]
  },
  {
   "cell_type": "code",
   "execution_count": 1,
   "metadata": {},
   "outputs": [],
   "source": [
    "import numpy as np\n",
    "import pandas as pd\n",
    "import pickle"
   ]
  },
  {
   "cell_type": "markdown",
   "metadata": {},
   "source": [
    "# importing dataset"
   ]
  },
  {
   "cell_type": "code",
   "execution_count": 2,
   "metadata": {},
   "outputs": [],
   "source": [
    "dataset = pd.read_csv(\"FuelConsumption.csv\")"
   ]
  },
  {
   "cell_type": "code",
   "execution_count": 3,
   "metadata": {},
   "outputs": [
    {
     "data": {
      "text/html": [
       "<div>\n",
       "<style scoped>\n",
       "    .dataframe tbody tr th:only-of-type {\n",
       "        vertical-align: middle;\n",
       "    }\n",
       "\n",
       "    .dataframe tbody tr th {\n",
       "        vertical-align: top;\n",
       "    }\n",
       "\n",
       "    .dataframe thead th {\n",
       "        text-align: right;\n",
       "    }\n",
       "</style>\n",
       "<table border=\"1\" class=\"dataframe\">\n",
       "  <thead>\n",
       "    <tr style=\"text-align: right;\">\n",
       "      <th></th>\n",
       "      <th>MODELYEAR</th>\n",
       "      <th>MAKE</th>\n",
       "      <th>MODEL</th>\n",
       "      <th>VEHICLECLASS</th>\n",
       "      <th>ENGINESIZE</th>\n",
       "      <th>CYLINDERS</th>\n",
       "      <th>TRANSMISSION</th>\n",
       "      <th>FUELTYPE</th>\n",
       "      <th>FUELCONSUMPTION_CITY</th>\n",
       "      <th>FUELCONSUMPTION_HWY</th>\n",
       "      <th>FUELCONSUMPTION_COMB</th>\n",
       "      <th>FUELCONSUMPTION_COMB_MPG</th>\n",
       "      <th>CO2EMISSIONS</th>\n",
       "    </tr>\n",
       "  </thead>\n",
       "  <tbody>\n",
       "    <tr>\n",
       "      <th>0</th>\n",
       "      <td>2014</td>\n",
       "      <td>ACURA</td>\n",
       "      <td>ILX</td>\n",
       "      <td>COMPACT</td>\n",
       "      <td>2.0</td>\n",
       "      <td>4</td>\n",
       "      <td>AS5</td>\n",
       "      <td>Z</td>\n",
       "      <td>9.9</td>\n",
       "      <td>6.7</td>\n",
       "      <td>8.5</td>\n",
       "      <td>33</td>\n",
       "      <td>196</td>\n",
       "    </tr>\n",
       "    <tr>\n",
       "      <th>1</th>\n",
       "      <td>2014</td>\n",
       "      <td>ACURA</td>\n",
       "      <td>ILX</td>\n",
       "      <td>COMPACT</td>\n",
       "      <td>2.4</td>\n",
       "      <td>4</td>\n",
       "      <td>M6</td>\n",
       "      <td>Z</td>\n",
       "      <td>11.2</td>\n",
       "      <td>7.7</td>\n",
       "      <td>9.6</td>\n",
       "      <td>29</td>\n",
       "      <td>221</td>\n",
       "    </tr>\n",
       "    <tr>\n",
       "      <th>2</th>\n",
       "      <td>2014</td>\n",
       "      <td>ACURA</td>\n",
       "      <td>ILX HYBRID</td>\n",
       "      <td>COMPACT</td>\n",
       "      <td>1.5</td>\n",
       "      <td>4</td>\n",
       "      <td>AV7</td>\n",
       "      <td>Z</td>\n",
       "      <td>6.0</td>\n",
       "      <td>5.8</td>\n",
       "      <td>5.9</td>\n",
       "      <td>48</td>\n",
       "      <td>136</td>\n",
       "    </tr>\n",
       "    <tr>\n",
       "      <th>3</th>\n",
       "      <td>2014</td>\n",
       "      <td>ACURA</td>\n",
       "      <td>MDX 4WD</td>\n",
       "      <td>SUV - SMALL</td>\n",
       "      <td>3.5</td>\n",
       "      <td>6</td>\n",
       "      <td>AS6</td>\n",
       "      <td>Z</td>\n",
       "      <td>12.7</td>\n",
       "      <td>9.1</td>\n",
       "      <td>11.1</td>\n",
       "      <td>25</td>\n",
       "      <td>255</td>\n",
       "    </tr>\n",
       "    <tr>\n",
       "      <th>4</th>\n",
       "      <td>2014</td>\n",
       "      <td>ACURA</td>\n",
       "      <td>RDX AWD</td>\n",
       "      <td>SUV - SMALL</td>\n",
       "      <td>3.5</td>\n",
       "      <td>6</td>\n",
       "      <td>AS6</td>\n",
       "      <td>Z</td>\n",
       "      <td>12.1</td>\n",
       "      <td>8.7</td>\n",
       "      <td>10.6</td>\n",
       "      <td>27</td>\n",
       "      <td>244</td>\n",
       "    </tr>\n",
       "  </tbody>\n",
       "</table>\n",
       "</div>"
      ],
      "text/plain": [
       "   MODELYEAR   MAKE       MODEL VEHICLECLASS  ENGINESIZE  CYLINDERS  \\\n",
       "0       2014  ACURA         ILX      COMPACT         2.0          4   \n",
       "1       2014  ACURA         ILX      COMPACT         2.4          4   \n",
       "2       2014  ACURA  ILX HYBRID      COMPACT         1.5          4   \n",
       "3       2014  ACURA     MDX 4WD  SUV - SMALL         3.5          6   \n",
       "4       2014  ACURA     RDX AWD  SUV - SMALL         3.5          6   \n",
       "\n",
       "  TRANSMISSION FUELTYPE  FUELCONSUMPTION_CITY  FUELCONSUMPTION_HWY  \\\n",
       "0          AS5        Z                   9.9                  6.7   \n",
       "1           M6        Z                  11.2                  7.7   \n",
       "2          AV7        Z                   6.0                  5.8   \n",
       "3          AS6        Z                  12.7                  9.1   \n",
       "4          AS6        Z                  12.1                  8.7   \n",
       "\n",
       "   FUELCONSUMPTION_COMB  FUELCONSUMPTION_COMB_MPG  CO2EMISSIONS  \n",
       "0                   8.5                        33           196  \n",
       "1                   9.6                        29           221  \n",
       "2                   5.9                        48           136  \n",
       "3                  11.1                        25           255  \n",
       "4                  10.6                        27           244  "
      ]
     },
     "execution_count": 3,
     "metadata": {},
     "output_type": "execute_result"
    }
   ],
   "source": [
    "dataset.head()"
   ]
  },
  {
   "cell_type": "markdown",
   "metadata": {},
   "source": [
    "# checking for null values "
   ]
  },
  {
   "cell_type": "code",
   "execution_count": 4,
   "metadata": {},
   "outputs": [
    {
     "data": {
      "text/plain": [
       "MODELYEAR                   False\n",
       "MAKE                        False\n",
       "MODEL                       False\n",
       "VEHICLECLASS                False\n",
       "ENGINESIZE                  False\n",
       "CYLINDERS                   False\n",
       "TRANSMISSION                False\n",
       "FUELTYPE                    False\n",
       "FUELCONSUMPTION_CITY        False\n",
       "FUELCONSUMPTION_HWY         False\n",
       "FUELCONSUMPTION_COMB        False\n",
       "FUELCONSUMPTION_COMB_MPG    False\n",
       "CO2EMISSIONS                False\n",
       "dtype: bool"
      ]
     },
     "execution_count": 4,
     "metadata": {},
     "output_type": "execute_result"
    }
   ],
   "source": [
    "dataset.isnull().any()"
   ]
  },
  {
   "cell_type": "code",
   "execution_count": 5,
   "metadata": {},
   "outputs": [
    {
     "data": {
      "text/html": [
       "<div>\n",
       "<style scoped>\n",
       "    .dataframe tbody tr th:only-of-type {\n",
       "        vertical-align: middle;\n",
       "    }\n",
       "\n",
       "    .dataframe tbody tr th {\n",
       "        vertical-align: top;\n",
       "    }\n",
       "\n",
       "    .dataframe thead th {\n",
       "        text-align: right;\n",
       "    }\n",
       "</style>\n",
       "<table border=\"1\" class=\"dataframe\">\n",
       "  <thead>\n",
       "    <tr style=\"text-align: right;\">\n",
       "      <th></th>\n",
       "      <th>MODELYEAR</th>\n",
       "      <th>ENGINESIZE</th>\n",
       "      <th>CYLINDERS</th>\n",
       "      <th>FUELCONSUMPTION_CITY</th>\n",
       "      <th>FUELCONSUMPTION_HWY</th>\n",
       "      <th>FUELCONSUMPTION_COMB</th>\n",
       "      <th>FUELCONSUMPTION_COMB_MPG</th>\n",
       "      <th>CO2EMISSIONS</th>\n",
       "    </tr>\n",
       "  </thead>\n",
       "  <tbody>\n",
       "    <tr>\n",
       "      <th>count</th>\n",
       "      <td>1067.0</td>\n",
       "      <td>1067.000000</td>\n",
       "      <td>1067.000000</td>\n",
       "      <td>1067.000000</td>\n",
       "      <td>1067.000000</td>\n",
       "      <td>1067.000000</td>\n",
       "      <td>1067.000000</td>\n",
       "      <td>1067.000000</td>\n",
       "    </tr>\n",
       "    <tr>\n",
       "      <th>mean</th>\n",
       "      <td>2014.0</td>\n",
       "      <td>3.346298</td>\n",
       "      <td>5.794752</td>\n",
       "      <td>13.296532</td>\n",
       "      <td>9.474602</td>\n",
       "      <td>11.580881</td>\n",
       "      <td>26.441425</td>\n",
       "      <td>256.228679</td>\n",
       "    </tr>\n",
       "    <tr>\n",
       "      <th>std</th>\n",
       "      <td>0.0</td>\n",
       "      <td>1.415895</td>\n",
       "      <td>1.797447</td>\n",
       "      <td>4.101253</td>\n",
       "      <td>2.794510</td>\n",
       "      <td>3.485595</td>\n",
       "      <td>7.468702</td>\n",
       "      <td>63.372304</td>\n",
       "    </tr>\n",
       "    <tr>\n",
       "      <th>min</th>\n",
       "      <td>2014.0</td>\n",
       "      <td>1.000000</td>\n",
       "      <td>3.000000</td>\n",
       "      <td>4.600000</td>\n",
       "      <td>4.900000</td>\n",
       "      <td>4.700000</td>\n",
       "      <td>11.000000</td>\n",
       "      <td>108.000000</td>\n",
       "    </tr>\n",
       "    <tr>\n",
       "      <th>25%</th>\n",
       "      <td>2014.0</td>\n",
       "      <td>2.000000</td>\n",
       "      <td>4.000000</td>\n",
       "      <td>10.250000</td>\n",
       "      <td>7.500000</td>\n",
       "      <td>9.000000</td>\n",
       "      <td>21.000000</td>\n",
       "      <td>207.000000</td>\n",
       "    </tr>\n",
       "    <tr>\n",
       "      <th>50%</th>\n",
       "      <td>2014.0</td>\n",
       "      <td>3.400000</td>\n",
       "      <td>6.000000</td>\n",
       "      <td>12.600000</td>\n",
       "      <td>8.800000</td>\n",
       "      <td>10.900000</td>\n",
       "      <td>26.000000</td>\n",
       "      <td>251.000000</td>\n",
       "    </tr>\n",
       "    <tr>\n",
       "      <th>75%</th>\n",
       "      <td>2014.0</td>\n",
       "      <td>4.300000</td>\n",
       "      <td>8.000000</td>\n",
       "      <td>15.550000</td>\n",
       "      <td>10.850000</td>\n",
       "      <td>13.350000</td>\n",
       "      <td>31.000000</td>\n",
       "      <td>294.000000</td>\n",
       "    </tr>\n",
       "    <tr>\n",
       "      <th>max</th>\n",
       "      <td>2014.0</td>\n",
       "      <td>8.400000</td>\n",
       "      <td>12.000000</td>\n",
       "      <td>30.200000</td>\n",
       "      <td>20.500000</td>\n",
       "      <td>25.800000</td>\n",
       "      <td>60.000000</td>\n",
       "      <td>488.000000</td>\n",
       "    </tr>\n",
       "  </tbody>\n",
       "</table>\n",
       "</div>"
      ],
      "text/plain": [
       "       MODELYEAR   ENGINESIZE    CYLINDERS  FUELCONSUMPTION_CITY  \\\n",
       "count     1067.0  1067.000000  1067.000000           1067.000000   \n",
       "mean      2014.0     3.346298     5.794752             13.296532   \n",
       "std          0.0     1.415895     1.797447              4.101253   \n",
       "min       2014.0     1.000000     3.000000              4.600000   \n",
       "25%       2014.0     2.000000     4.000000             10.250000   \n",
       "50%       2014.0     3.400000     6.000000             12.600000   \n",
       "75%       2014.0     4.300000     8.000000             15.550000   \n",
       "max       2014.0     8.400000    12.000000             30.200000   \n",
       "\n",
       "       FUELCONSUMPTION_HWY  FUELCONSUMPTION_COMB  FUELCONSUMPTION_COMB_MPG  \\\n",
       "count          1067.000000           1067.000000               1067.000000   \n",
       "mean              9.474602             11.580881                 26.441425   \n",
       "std               2.794510              3.485595                  7.468702   \n",
       "min               4.900000              4.700000                 11.000000   \n",
       "25%               7.500000              9.000000                 21.000000   \n",
       "50%               8.800000             10.900000                 26.000000   \n",
       "75%              10.850000             13.350000                 31.000000   \n",
       "max              20.500000             25.800000                 60.000000   \n",
       "\n",
       "       CO2EMISSIONS  \n",
       "count   1067.000000  \n",
       "mean     256.228679  \n",
       "std       63.372304  \n",
       "min      108.000000  \n",
       "25%      207.000000  \n",
       "50%      251.000000  \n",
       "75%      294.000000  \n",
       "max      488.000000  "
      ]
     },
     "execution_count": 5,
     "metadata": {},
     "output_type": "execute_result"
    }
   ],
   "source": [
    "dataset.describe()"
   ]
  },
  {
   "cell_type": "markdown",
   "metadata": {},
   "source": [
    "# information of the dataset"
   ]
  },
  {
   "cell_type": "code",
   "execution_count": 6,
   "metadata": {},
   "outputs": [
    {
     "name": "stdout",
     "output_type": "stream",
     "text": [
      "<class 'pandas.core.frame.DataFrame'>\n",
      "RangeIndex: 1067 entries, 0 to 1066\n",
      "Data columns (total 13 columns):\n",
      " #   Column                    Non-Null Count  Dtype  \n",
      "---  ------                    --------------  -----  \n",
      " 0   MODELYEAR                 1067 non-null   int64  \n",
      " 1   MAKE                      1067 non-null   object \n",
      " 2   MODEL                     1067 non-null   object \n",
      " 3   VEHICLECLASS              1067 non-null   object \n",
      " 4   ENGINESIZE                1067 non-null   float64\n",
      " 5   CYLINDERS                 1067 non-null   int64  \n",
      " 6   TRANSMISSION              1067 non-null   object \n",
      " 7   FUELTYPE                  1067 non-null   object \n",
      " 8   FUELCONSUMPTION_CITY      1067 non-null   float64\n",
      " 9   FUELCONSUMPTION_HWY       1067 non-null   float64\n",
      " 10  FUELCONSUMPTION_COMB      1067 non-null   float64\n",
      " 11  FUELCONSUMPTION_COMB_MPG  1067 non-null   int64  \n",
      " 12  CO2EMISSIONS              1067 non-null   int64  \n",
      "dtypes: float64(4), int64(4), object(5)\n",
      "memory usage: 108.5+ KB\n"
     ]
    }
   ],
   "source": [
    "dataset.info()"
   ]
  },
  {
   "cell_type": "code",
   "execution_count": 7,
   "metadata": {},
   "outputs": [
    {
     "data": {
      "text/plain": [
       "39"
      ]
     },
     "execution_count": 7,
     "metadata": {},
     "output_type": "execute_result"
    }
   ],
   "source": [
    "dataset['MAKE'].nunique()"
   ]
  },
  {
   "cell_type": "code",
   "execution_count": 8,
   "metadata": {},
   "outputs": [
    {
     "data": {
      "text/plain": [
       "663"
      ]
     },
     "execution_count": 8,
     "metadata": {},
     "output_type": "execute_result"
    }
   ],
   "source": [
    "dataset['MODEL'].nunique()"
   ]
  },
  {
   "cell_type": "code",
   "execution_count": 9,
   "metadata": {},
   "outputs": [
    {
     "data": {
      "text/plain": [
       "16"
      ]
     },
     "execution_count": 9,
     "metadata": {},
     "output_type": "execute_result"
    }
   ],
   "source": [
    "dataset['VEHICLECLASS'].nunique()"
   ]
  },
  {
   "cell_type": "code",
   "execution_count": 10,
   "metadata": {},
   "outputs": [
    {
     "data": {
      "text/plain": [
       "22"
      ]
     },
     "execution_count": 10,
     "metadata": {},
     "output_type": "execute_result"
    }
   ],
   "source": [
    "dataset['TRANSMISSION'].nunique()"
   ]
  },
  {
   "cell_type": "code",
   "execution_count": 11,
   "metadata": {},
   "outputs": [
    {
     "data": {
      "text/plain": [
       "4"
      ]
     },
     "execution_count": 11,
     "metadata": {},
     "output_type": "execute_result"
    }
   ],
   "source": [
    "dataset['FUELTYPE'].nunique()"
   ]
  },
  {
   "cell_type": "code",
   "execution_count": 12,
   "metadata": {},
   "outputs": [
    {
     "data": {
      "text/plain": [
       "1"
      ]
     },
     "execution_count": 12,
     "metadata": {},
     "output_type": "execute_result"
    }
   ],
   "source": [
    "dataset[\"MODELYEAR\"].nunique()"
   ]
  },
  {
   "cell_type": "code",
   "execution_count": 13,
   "metadata": {},
   "outputs": [
    {
     "data": {
      "text/html": [
       "<div>\n",
       "<style scoped>\n",
       "    .dataframe tbody tr th:only-of-type {\n",
       "        vertical-align: middle;\n",
       "    }\n",
       "\n",
       "    .dataframe tbody tr th {\n",
       "        vertical-align: top;\n",
       "    }\n",
       "\n",
       "    .dataframe thead th {\n",
       "        text-align: right;\n",
       "    }\n",
       "</style>\n",
       "<table border=\"1\" class=\"dataframe\">\n",
       "  <thead>\n",
       "    <tr style=\"text-align: right;\">\n",
       "      <th></th>\n",
       "      <th>MODELYEAR</th>\n",
       "      <th>ENGINESIZE</th>\n",
       "      <th>CYLINDERS</th>\n",
       "      <th>FUELCONSUMPTION_CITY</th>\n",
       "      <th>FUELCONSUMPTION_HWY</th>\n",
       "      <th>FUELCONSUMPTION_COMB</th>\n",
       "      <th>FUELCONSUMPTION_COMB_MPG</th>\n",
       "      <th>CO2EMISSIONS</th>\n",
       "    </tr>\n",
       "  </thead>\n",
       "  <tbody>\n",
       "    <tr>\n",
       "      <th>MODELYEAR</th>\n",
       "      <td>NaN</td>\n",
       "      <td>NaN</td>\n",
       "      <td>NaN</td>\n",
       "      <td>NaN</td>\n",
       "      <td>NaN</td>\n",
       "      <td>NaN</td>\n",
       "      <td>NaN</td>\n",
       "      <td>NaN</td>\n",
       "    </tr>\n",
       "    <tr>\n",
       "      <th>ENGINESIZE</th>\n",
       "      <td>NaN</td>\n",
       "      <td>1.000000</td>\n",
       "      <td>0.934011</td>\n",
       "      <td>0.832225</td>\n",
       "      <td>0.778746</td>\n",
       "      <td>0.819482</td>\n",
       "      <td>-0.808554</td>\n",
       "      <td>0.874154</td>\n",
       "    </tr>\n",
       "    <tr>\n",
       "      <th>CYLINDERS</th>\n",
       "      <td>NaN</td>\n",
       "      <td>0.934011</td>\n",
       "      <td>1.000000</td>\n",
       "      <td>0.796473</td>\n",
       "      <td>0.724594</td>\n",
       "      <td>0.776788</td>\n",
       "      <td>-0.770430</td>\n",
       "      <td>0.849685</td>\n",
       "    </tr>\n",
       "    <tr>\n",
       "      <th>FUELCONSUMPTION_CITY</th>\n",
       "      <td>NaN</td>\n",
       "      <td>0.832225</td>\n",
       "      <td>0.796473</td>\n",
       "      <td>1.000000</td>\n",
       "      <td>0.965718</td>\n",
       "      <td>0.995542</td>\n",
       "      <td>-0.935613</td>\n",
       "      <td>0.898039</td>\n",
       "    </tr>\n",
       "    <tr>\n",
       "      <th>FUELCONSUMPTION_HWY</th>\n",
       "      <td>NaN</td>\n",
       "      <td>0.778746</td>\n",
       "      <td>0.724594</td>\n",
       "      <td>0.965718</td>\n",
       "      <td>1.000000</td>\n",
       "      <td>0.985804</td>\n",
       "      <td>-0.893809</td>\n",
       "      <td>0.861748</td>\n",
       "    </tr>\n",
       "    <tr>\n",
       "      <th>FUELCONSUMPTION_COMB</th>\n",
       "      <td>NaN</td>\n",
       "      <td>0.819482</td>\n",
       "      <td>0.776788</td>\n",
       "      <td>0.995542</td>\n",
       "      <td>0.985804</td>\n",
       "      <td>1.000000</td>\n",
       "      <td>-0.927965</td>\n",
       "      <td>0.892129</td>\n",
       "    </tr>\n",
       "    <tr>\n",
       "      <th>FUELCONSUMPTION_COMB_MPG</th>\n",
       "      <td>NaN</td>\n",
       "      <td>-0.808554</td>\n",
       "      <td>-0.770430</td>\n",
       "      <td>-0.935613</td>\n",
       "      <td>-0.893809</td>\n",
       "      <td>-0.927965</td>\n",
       "      <td>1.000000</td>\n",
       "      <td>-0.906394</td>\n",
       "    </tr>\n",
       "    <tr>\n",
       "      <th>CO2EMISSIONS</th>\n",
       "      <td>NaN</td>\n",
       "      <td>0.874154</td>\n",
       "      <td>0.849685</td>\n",
       "      <td>0.898039</td>\n",
       "      <td>0.861748</td>\n",
       "      <td>0.892129</td>\n",
       "      <td>-0.906394</td>\n",
       "      <td>1.000000</td>\n",
       "    </tr>\n",
       "  </tbody>\n",
       "</table>\n",
       "</div>"
      ],
      "text/plain": [
       "                          MODELYEAR  ENGINESIZE  CYLINDERS  \\\n",
       "MODELYEAR                       NaN         NaN        NaN   \n",
       "ENGINESIZE                      NaN    1.000000   0.934011   \n",
       "CYLINDERS                       NaN    0.934011   1.000000   \n",
       "FUELCONSUMPTION_CITY            NaN    0.832225   0.796473   \n",
       "FUELCONSUMPTION_HWY             NaN    0.778746   0.724594   \n",
       "FUELCONSUMPTION_COMB            NaN    0.819482   0.776788   \n",
       "FUELCONSUMPTION_COMB_MPG        NaN   -0.808554  -0.770430   \n",
       "CO2EMISSIONS                    NaN    0.874154   0.849685   \n",
       "\n",
       "                          FUELCONSUMPTION_CITY  FUELCONSUMPTION_HWY  \\\n",
       "MODELYEAR                                  NaN                  NaN   \n",
       "ENGINESIZE                            0.832225             0.778746   \n",
       "CYLINDERS                             0.796473             0.724594   \n",
       "FUELCONSUMPTION_CITY                  1.000000             0.965718   \n",
       "FUELCONSUMPTION_HWY                   0.965718             1.000000   \n",
       "FUELCONSUMPTION_COMB                  0.995542             0.985804   \n",
       "FUELCONSUMPTION_COMB_MPG             -0.935613            -0.893809   \n",
       "CO2EMISSIONS                          0.898039             0.861748   \n",
       "\n",
       "                          FUELCONSUMPTION_COMB  FUELCONSUMPTION_COMB_MPG  \\\n",
       "MODELYEAR                                  NaN                       NaN   \n",
       "ENGINESIZE                            0.819482                 -0.808554   \n",
       "CYLINDERS                             0.776788                 -0.770430   \n",
       "FUELCONSUMPTION_CITY                  0.995542                 -0.935613   \n",
       "FUELCONSUMPTION_HWY                   0.985804                 -0.893809   \n",
       "FUELCONSUMPTION_COMB                  1.000000                 -0.927965   \n",
       "FUELCONSUMPTION_COMB_MPG             -0.927965                  1.000000   \n",
       "CO2EMISSIONS                          0.892129                 -0.906394   \n",
       "\n",
       "                          CO2EMISSIONS  \n",
       "MODELYEAR                          NaN  \n",
       "ENGINESIZE                    0.874154  \n",
       "CYLINDERS                     0.849685  \n",
       "FUELCONSUMPTION_CITY          0.898039  \n",
       "FUELCONSUMPTION_HWY           0.861748  \n",
       "FUELCONSUMPTION_COMB          0.892129  \n",
       "FUELCONSUMPTION_COMB_MPG     -0.906394  \n",
       "CO2EMISSIONS                  1.000000  "
      ]
     },
     "execution_count": 13,
     "metadata": {},
     "output_type": "execute_result"
    }
   ],
   "source": [
    "temp=dataset.corr()\n",
    "temp"
   ]
  },
  {
   "cell_type": "markdown",
   "metadata": {},
   "source": [
    "### Taking only those columns whose correlation is greater than 50%"
   ]
  },
  {
   "cell_type": "code",
   "execution_count": 14,
   "metadata": {},
   "outputs": [
    {
     "data": {
      "text/plain": [
       "['ENGINESIZE',\n",
       " 'CYLINDERS',\n",
       " 'FUELCONSUMPTION_CITY',\n",
       " 'FUELCONSUMPTION_HWY',\n",
       " 'FUELCONSUMPTION_COMB',\n",
       " 'FUELCONSUMPTION_COMB_MPG',\n",
       " 'CO2EMISSIONS']"
      ]
     },
     "execution_count": 14,
     "metadata": {},
     "output_type": "execute_result"
    }
   ],
   "source": [
    "tmp=dataset.corr()\n",
    "imp_cols = tmp[abs(tmp['CO2EMISSIONS']) > 0.5].index.tolist()\n",
    "imp_cols"
   ]
  },
  {
   "cell_type": "markdown",
   "metadata": {},
   "source": [
    "## Data visualization"
   ]
  },
  {
   "cell_type": "code",
   "execution_count": 15,
   "metadata": {},
   "outputs": [
    {
     "data": {
      "text/plain": [
       "<matplotlib.axes._subplots.AxesSubplot at 0x137851942c8>"
      ]
     },
     "execution_count": 15,
     "metadata": {},
     "output_type": "execute_result"
    },
    {
     "data": {
      "image/png": "[encoded data removed]",
      "text/plain": [
       "<Figure size 432x288 with 2 Axes>"
      ]
     },
     "metadata": {
      "needs_background": "light"
     },
     "output_type": "display_data"
    }
   ],
   "source": [
    "import matplotlib.pyplot as plt\n",
    "import seaborn as sns\n",
    "sns.heatmap(dataset[imp_cols].corr(),cmap='RdBu',annot=True,linewidths=1,linecolor='y')\n",
    "# sns.savefig(\"output.png\")"
   ]
  },
  {
   "cell_type": "code",
   "execution_count": 16,
   "metadata": {},
   "outputs": [
    {
     "data": {
      "image/png": "[encoded data removed]",
      "text/plain": [
       "<Figure size 1440x1440 with 72 Axes>"
      ]
     },
     "metadata": {
      "needs_background": "light"
     },
     "output_type": "display_data"
    }
   ],
   "source": [
    "sns.pairplot(dataset, kind=\"reg\")\n",
    "plt.show()"
   ]
  },
  {
   "cell_type": "markdown",
   "metadata": {},
   "source": [
    "# Label Encoding"
   ]
  },
  {
   "cell_type": "code",
   "execution_count": 17,
   "metadata": {},
   "outputs": [],
   "source": [
    "from sklearn.preprocessing import LabelEncoder\n",
    "le = LabelEncoder()\n",
    "dataset['TRANSMISSION'] = le.fit_transform(dataset['TRANSMISSION'])\n",
    "dataset['FUELTYPE'] = le.fit_transform(dataset['FUELTYPE'])"
   ]
  },
  {
   "cell_type": "markdown",
   "metadata": {},
   "source": [
    "### Cosidering only numerical data"
   ]
  },
  {
   "cell_type": "code",
   "execution_count": 18,
   "metadata": {},
   "outputs": [
    {
     "data": {
      "text/html": [
       "<div>\n",
       "<style scoped>\n",
       "    .dataframe tbody tr th:only-of-type {\n",
       "        vertical-align: middle;\n",
       "    }\n",
       "\n",
       "    .dataframe tbody tr th {\n",
       "        vertical-align: top;\n",
       "    }\n",
       "\n",
       "    .dataframe thead th {\n",
       "        text-align: right;\n",
       "    }\n",
       "</style>\n",
       "<table border=\"1\" class=\"dataframe\">\n",
       "  <thead>\n",
       "    <tr style=\"text-align: right;\">\n",
       "      <th></th>\n",
       "      <th>ENGINESIZE</th>\n",
       "      <th>CYLINDERS</th>\n",
       "      <th>TRANSMISSION</th>\n",
       "      <th>FUELTYPE</th>\n",
       "      <th>FUELCONSUMPTION_CITY</th>\n",
       "      <th>FUELCONSUMPTION_HWY</th>\n",
       "      <th>FUELCONSUMPTION_COMB</th>\n",
       "      <th>FUELCONSUMPTION_COMB_MPG</th>\n",
       "      <th>CO2EMISSIONS</th>\n",
       "    </tr>\n",
       "  </thead>\n",
       "  <tbody>\n",
       "    <tr>\n",
       "      <th>0</th>\n",
       "      <td>2.0</td>\n",
       "      <td>4</td>\n",
       "      <td>10</td>\n",
       "      <td>3</td>\n",
       "      <td>9.9</td>\n",
       "      <td>6.7</td>\n",
       "      <td>8.5</td>\n",
       "      <td>33</td>\n",
       "      <td>196</td>\n",
       "    </tr>\n",
       "    <tr>\n",
       "      <th>1</th>\n",
       "      <td>2.4</td>\n",
       "      <td>4</td>\n",
       "      <td>20</td>\n",
       "      <td>3</td>\n",
       "      <td>11.2</td>\n",
       "      <td>7.7</td>\n",
       "      <td>9.6</td>\n",
       "      <td>29</td>\n",
       "      <td>221</td>\n",
       "    </tr>\n",
       "    <tr>\n",
       "      <th>2</th>\n",
       "      <td>1.5</td>\n",
       "      <td>4</td>\n",
       "      <td>17</td>\n",
       "      <td>3</td>\n",
       "      <td>6.0</td>\n",
       "      <td>5.8</td>\n",
       "      <td>5.9</td>\n",
       "      <td>48</td>\n",
       "      <td>136</td>\n",
       "    </tr>\n",
       "    <tr>\n",
       "      <th>3</th>\n",
       "      <td>3.5</td>\n",
       "      <td>6</td>\n",
       "      <td>11</td>\n",
       "      <td>3</td>\n",
       "      <td>12.7</td>\n",
       "      <td>9.1</td>\n",
       "      <td>11.1</td>\n",
       "      <td>25</td>\n",
       "      <td>255</td>\n",
       "    </tr>\n",
       "    <tr>\n",
       "      <th>4</th>\n",
       "      <td>3.5</td>\n",
       "      <td>6</td>\n",
       "      <td>11</td>\n",
       "      <td>3</td>\n",
       "      <td>12.1</td>\n",
       "      <td>8.7</td>\n",
       "      <td>10.6</td>\n",
       "      <td>27</td>\n",
       "      <td>244</td>\n",
       "    </tr>\n",
       "    <tr>\n",
       "      <th>...</th>\n",
       "      <td>...</td>\n",
       "      <td>...</td>\n",
       "      <td>...</td>\n",
       "      <td>...</td>\n",
       "      <td>...</td>\n",
       "      <td>...</td>\n",
       "      <td>...</td>\n",
       "      <td>...</td>\n",
       "      <td>...</td>\n",
       "    </tr>\n",
       "    <tr>\n",
       "      <th>1062</th>\n",
       "      <td>3.0</td>\n",
       "      <td>6</td>\n",
       "      <td>11</td>\n",
       "      <td>2</td>\n",
       "      <td>13.4</td>\n",
       "      <td>9.8</td>\n",
       "      <td>11.8</td>\n",
       "      <td>24</td>\n",
       "      <td>271</td>\n",
       "    </tr>\n",
       "    <tr>\n",
       "      <th>1063</th>\n",
       "      <td>3.2</td>\n",
       "      <td>6</td>\n",
       "      <td>11</td>\n",
       "      <td>2</td>\n",
       "      <td>13.2</td>\n",
       "      <td>9.5</td>\n",
       "      <td>11.5</td>\n",
       "      <td>25</td>\n",
       "      <td>264</td>\n",
       "    </tr>\n",
       "    <tr>\n",
       "      <th>1064</th>\n",
       "      <td>3.0</td>\n",
       "      <td>6</td>\n",
       "      <td>11</td>\n",
       "      <td>2</td>\n",
       "      <td>13.4</td>\n",
       "      <td>9.8</td>\n",
       "      <td>11.8</td>\n",
       "      <td>24</td>\n",
       "      <td>271</td>\n",
       "    </tr>\n",
       "    <tr>\n",
       "      <th>1065</th>\n",
       "      <td>3.2</td>\n",
       "      <td>6</td>\n",
       "      <td>11</td>\n",
       "      <td>2</td>\n",
       "      <td>12.9</td>\n",
       "      <td>9.3</td>\n",
       "      <td>11.3</td>\n",
       "      <td>25</td>\n",
       "      <td>260</td>\n",
       "    </tr>\n",
       "    <tr>\n",
       "      <th>1066</th>\n",
       "      <td>3.2</td>\n",
       "      <td>6</td>\n",
       "      <td>11</td>\n",
       "      <td>2</td>\n",
       "      <td>14.9</td>\n",
       "      <td>10.2</td>\n",
       "      <td>12.8</td>\n",
       "      <td>22</td>\n",
       "      <td>294</td>\n",
       "    </tr>\n",
       "  </tbody>\n",
       "</table>\n",
       "<p>1067 rows × 9 columns</p>\n",
       "</div>"
      ],
      "text/plain": [
       "      ENGINESIZE  CYLINDERS  TRANSMISSION  FUELTYPE  FUELCONSUMPTION_CITY  \\\n",
       "0            2.0          4            10         3                   9.9   \n",
       "1            2.4          4            20         3                  11.2   \n",
       "2            1.5          4            17         3                   6.0   \n",
       "3            3.5          6            11         3                  12.7   \n",
       "4            3.5          6            11         3                  12.1   \n",
       "...          ...        ...           ...       ...                   ...   \n",
       "1062         3.0          6            11         2                  13.4   \n",
       "1063         3.2          6            11         2                  13.2   \n",
       "1064         3.0          6            11         2                  13.4   \n",
       "1065         3.2          6            11         2                  12.9   \n",
       "1066         3.2          6            11         2                  14.9   \n",
       "\n",
       "      FUELCONSUMPTION_HWY  FUELCONSUMPTION_COMB  FUELCONSUMPTION_COMB_MPG  \\\n",
       "0                     6.7                   8.5                        33   \n",
       "1                     7.7                   9.6                        29   \n",
       "2                     5.8                   5.9                        48   \n",
       "3                     9.1                  11.1                        25   \n",
       "4                     8.7                  10.6                        27   \n",
       "...                   ...                   ...                       ...   \n",
       "1062                  9.8                  11.8                        24   \n",
       "1063                  9.5                  11.5                        25   \n",
       "1064                  9.8                  11.8                        24   \n",
       "1065                  9.3                  11.3                        25   \n",
       "1066                 10.2                  12.8                        22   \n",
       "\n",
       "      CO2EMISSIONS  \n",
       "0              196  \n",
       "1              221  \n",
       "2              136  \n",
       "3              255  \n",
       "4              244  \n",
       "...            ...  \n",
       "1062           271  \n",
       "1063           264  \n",
       "1064           271  \n",
       "1065           260  \n",
       "1066           294  \n",
       "\n",
       "[1067 rows x 9 columns]"
      ]
     },
     "execution_count": 18,
     "metadata": {},
     "output_type": "execute_result"
    }
   ],
   "source": [
    "dataset = dataset._get_numeric_data()\n",
    "dataset=dataset.drop(['MODELYEAR'],axis=1)\n",
    "dataset"
   ]
  },
  {
   "cell_type": "code",
   "execution_count": 19,
   "metadata": {},
   "outputs": [],
   "source": [
    "x = dataset.iloc[:,0:8].values"
   ]
  },
  {
   "cell_type": "code",
   "execution_count": 20,
   "metadata": {},
   "outputs": [],
   "source": [
    "y = dataset.iloc[:,8:9].values"
   ]
  },
  {
   "cell_type": "code",
   "execution_count": 21,
   "metadata": {},
   "outputs": [
    {
     "data": {
      "text/plain": [
       "(1067, 1)"
      ]
     },
     "execution_count": 21,
     "metadata": {},
     "output_type": "execute_result"
    }
   ],
   "source": [
    "y.shape"
   ]
  },
  {
   "cell_type": "code",
   "execution_count": 22,
   "metadata": {},
   "outputs": [
    {
     "data": {
      "text/plain": [
       "array([ 2.4,  4. , 20. ,  3. , 11.2,  7.7,  9.6, 29. ])"
      ]
     },
     "execution_count": 22,
     "metadata": {},
     "output_type": "execute_result"
    }
   ],
   "source": [
    "x[1]"
   ]
  },
  {
   "cell_type": "markdown",
   "metadata": {},
   "source": [
    "### one hotEncoding "
   ]
  },
  {
   "cell_type": "code",
   "execution_count": 23,
   "metadata": {},
   "outputs": [],
   "source": [
    "from sklearn.preprocessing import OneHotEncoder\n",
    "one = OneHotEncoder()\n",
    "z = one.fit_transform(x[:,3:4]).toarray()\n",
    "x= np.delete(x,[3],axis =1)\n",
    "x= np.concatenate((z,x),axis =1)"
   ]
  },
  {
   "cell_type": "code",
   "execution_count": 24,
   "metadata": {},
   "outputs": [
    {
     "data": {
      "text/plain": [
       "(1067, 11)"
      ]
     },
     "execution_count": 24,
     "metadata": {},
     "output_type": "execute_result"
    }
   ],
   "source": [
    "x.shape"
   ]
  },
  {
   "cell_type": "code",
   "execution_count": 25,
   "metadata": {},
   "outputs": [
    {
     "data": {
      "text/plain": [
       "array([ 0. ,  0. ,  1. ,  0. ,  1.8,  4. , 20. ,  9.5,  6.5,  8.2, 34. ])"
      ]
     },
     "execution_count": 25,
     "metadata": {},
     "output_type": "execute_result"
    }
   ],
   "source": [
    "x[200]"
   ]
  },
  {
   "cell_type": "code",
   "execution_count": 26,
   "metadata": {},
   "outputs": [
    {
     "data": {
      "text/plain": [
       "array([[196],\n",
       "       [221],\n",
       "       [136],\n",
       "       ...,\n",
       "       [271],\n",
       "       [260],\n",
       "       [294]], dtype=int64)"
      ]
     },
     "execution_count": 26,
     "metadata": {},
     "output_type": "execute_result"
    }
   ],
   "source": [
    "y"
   ]
  },
  {
   "cell_type": "markdown",
   "metadata": {},
   "source": [
    "## test and train "
   ]
  },
  {
   "cell_type": "code",
   "execution_count": 27,
   "metadata": {},
   "outputs": [],
   "source": [
    "from sklearn.model_selection import train_test_split\n",
    "x_train,x_test,y_train,y_test = train_test_split(x,y,test_size = 0.2, random_state = 10)"
   ]
  },
  {
   "cell_type": "code",
   "execution_count": 28,
   "metadata": {},
   "outputs": [],
   "source": [
    "from sklearn.preprocessing import StandardScaler\n",
    "sc = StandardScaler()\n",
    "x_train=sc.fit_transform(x_train)\n",
    "x_test=sc.fit_transform(x_test)"
   ]
  },
  {
   "cell_type": "markdown",
   "metadata": {},
   "source": [
    "## Using RandomForestRegressor"
   ]
  },
  {
   "cell_type": "code",
   "execution_count": 29,
   "metadata": {},
   "outputs": [],
   "source": [
    "from sklearn.ensemble import RandomForestRegressor\n",
    "rdr = RandomForestRegressor(n_estimators = 500,random_state = 20)"
   ]
  },
  {
   "cell_type": "code",
   "execution_count": 30,
   "metadata": {},
   "outputs": [
    {
     "name": "stderr",
     "output_type": "stream",
     "text": [
      "E:\\New folder\\lib\\site-packages\\ipykernel_launcher.py:1: DataConversionWarning: A column-vector y was passed when a 1d array was expected. Please change the shape of y to (n_samples,), for example using ravel().\n",
      "  \"\"\"Entry point for launching an IPython kernel.\n"
     ]
    },
    {
     "data": {
      "text/plain": [
       "RandomForestRegressor(bootstrap=True, ccp_alpha=0.0, criterion='mse',\n",
       "                      max_depth=None, max_features='auto', max_leaf_nodes=None,\n",
       "                      max_samples=None, min_impurity_decrease=0.0,\n",
       "                      min_impurity_split=None, min_samples_leaf=1,\n",
       "                      min_samples_split=2, min_weight_fraction_leaf=0.0,\n",
       "                      n_estimators=500, n_jobs=None, oob_score=False,\n",
       "                      random_state=20, verbose=0, warm_start=False)"
      ]
     },
     "execution_count": 30,
     "metadata": {},
     "output_type": "execute_result"
    }
   ],
   "source": [
    "rdr.fit(x_train,y_train)"
   ]
  },
  {
   "cell_type": "code",
   "execution_count": 31,
   "metadata": {},
   "outputs": [],
   "source": [
    "threshold = dataset['CO2EMISSIONS'].mean()"
   ]
  },
  {
   "cell_type": "code",
   "execution_count": 32,
   "metadata": {},
   "outputs": [
    {
     "data": {
      "text/plain": [
       "256.2286785379569"
      ]
     },
     "execution_count": 32,
     "metadata": {},
     "output_type": "execute_result"
    }
   ],
   "source": [
    "threshold"
   ]
  },
  {
   "cell_type": "code",
   "execution_count": 33,
   "metadata": {},
   "outputs": [],
   "source": [
    "yrdr =rdr.predict(x_test)\n",
    "yhat_train = rdr.predict(x_train)\n"
   ]
  },
  {
   "cell_type": "code",
   "execution_count": 34,
   "metadata": {},
   "outputs": [
    {
     "data": {
      "text/plain": [
       "array([174.98866667, 262.008     , 265.64      , 229.062     ,\n",
       "       237.062     , 271.91      , 391.494     , 315.938     ,\n",
       "       274.434     , 255.        , 223.004     , 277.612     ,\n",
       "       182.138     , 359.034     , 204.946     , 304.374     ,\n",
       "       333.804     , 316.382     , 333.822     , 269.022     ,\n",
       "       216.        , 193.006     , 234.87      , 245.072     ,\n",
       "       209.056     , 241.974     , 158.7       , 174.998     ,\n",
       "       197.972     , 196.        , 209.05      , 238.99      ,\n",
       "       166.136     , 206.972     , 211.824     , 230.        ,\n",
       "       280.226     , 213.972     , 302.684     , 289.868     ,\n",
       "       255.284     , 315.506     , 223.008     , 260.        ,\n",
       "       331.382     , 296.878     , 262.        , 261.368     ,\n",
       "       371.206     , 371.154     , 260.008     , 260.744     ,\n",
       "       278.026     , 332.56      , 191.008     , 179.        ,\n",
       "       197.98      , 192.93      , 290.302     , 233.626     ,\n",
       "       352.496     , 209.056     , 337.058     , 332.672     ,\n",
       "       247.992     , 195.994     , 372.338     , 219.568     ,\n",
       "       260.004     , 223.012     , 209.046     , 213.996     ,\n",
       "       312.962     , 251.012     , 360.84      , 229.062     ,\n",
       "       333.804     , 224.992     , 206.972     , 224.992     ,\n",
       "       195.992     , 166.488     , 289.792     , 323.62      ,\n",
       "       352.406     , 301.038     , 190.996     , 225.        ,\n",
       "       238.922     , 283.016     , 186.608     , 278.224     ,\n",
       "       371.818     , 229.062     , 185.786     , 408.2       ,\n",
       "       191.        , 184.        , 213.988     , 304.89      ,\n",
       "       225.        , 247.98      , 296.962     , 259.106     ,\n",
       "       225.        , 265.71      , 255.        , 245.072     ,\n",
       "       166.488     , 305.        , 248.206     , 176.318     ,\n",
       "       200.034     , 223.        , 262.016     , 320.174     ,\n",
       "       230.008     , 236.042     , 237.01      , 255.004     ,\n",
       "       289.956     , 278.558     , 258.        , 289.624     ,\n",
       "       258.284     , 211.958     , 371.132     , 143.658     ,\n",
       "       245.266     , 208.948     , 290.322     , 216.01      ,\n",
       "       199.996     , 261.998     , 148.116     , 253.972     ,\n",
       "       265.612     , 253.972     , 190.996     , 212.012     ,\n",
       "       197.972     , 311.052     , 184.        , 309.708     ,\n",
       "       206.996     , 231.992     , 238.99      , 276.728     ,\n",
       "       395.696     , 423.376     , 333.822     , 267.096     ,\n",
       "       224.992     , 278.606     , 195.994     , 393.1       ,\n",
       "       183.148     , 219.512     , 186.606     , 241.896     ,\n",
       "       247.992     , 371.818     , 184.872     , 306.02      ,\n",
       "       332.55      , 336.456     , 173.04470952, 127.64      ,\n",
       "       421.08      , 306.01      , 316.142     , 293.864     ,\n",
       "       163.947     , 197.976     , 112.22      , 384.584     ,\n",
       "       268.986     , 260.004     , 208.996     , 312.962     ,\n",
       "       393.1       , 352.406     , 271.018     , 224.996     ,\n",
       "       184.        , 313.134     , 196.038     , 238.996     ,\n",
       "       382.174     , 302.676     , 297.256     , 224.996     ,\n",
       "       213.992     , 316.728     , 253.984     , 289.892     ,\n",
       "       263.83      , 292.282     , 291.204     , 238.936     ,\n",
       "       291.89      , 225.        , 206.992     , 223.012     ,\n",
       "       332.672     , 184.        , 183.148     , 219.568     ,\n",
       "       352.406     , 211.824     , 183.992     , 273.284     ,\n",
       "       211.97      , 251.012     ])"
      ]
     },
     "execution_count": 34,
     "metadata": {},
     "output_type": "execute_result"
    }
   ],
   "source": [
    "yrdr"
   ]
  },
  {
   "cell_type": "code",
   "execution_count": 35,
   "metadata": {},
   "outputs": [
    {
     "data": {
      "text/plain": [
       "array([[175],\n",
       "       [264],\n",
       "       [267],\n",
       "       [230],\n",
       "       [239],\n",
       "       [276],\n",
       "       [396],\n",
       "       [334],\n",
       "       [278],\n",
       "       [258],\n",
       "       [225],\n",
       "       [283],\n",
       "       [182],\n",
       "       [366],\n",
       "       [205],\n",
       "       [308],\n",
       "       [338],\n",
       "       [320],\n",
       "       [344],\n",
       "       [274],\n",
       "       [218],\n",
       "       [193],\n",
       "       [195],\n",
       "       [246],\n",
       "       [209],\n",
       "       [244],\n",
       "       [159],\n",
       "       [175],\n",
       "       [198],\n",
       "       [196],\n",
       "       [209],\n",
       "       [242],\n",
       "       [166],\n",
       "       [207],\n",
       "       [224],\n",
       "       [232],\n",
       "       [294],\n",
       "       [216],\n",
       "       [306],\n",
       "       [294],\n",
       "       [258],\n",
       "       [320],\n",
       "       [225],\n",
       "       [262],\n",
       "       [334],\n",
       "       [301],\n",
       "       [264],\n",
       "       [275],\n",
       "       [380],\n",
       "       [380],\n",
       "       [262],\n",
       "       [262],\n",
       "       [283],\n",
       "       [338],\n",
       "       [191],\n",
       "       [179],\n",
       "       [198],\n",
       "       [193],\n",
       "       [294],\n",
       "       [237],\n",
       "       [359],\n",
       "       [209],\n",
       "       [340],\n",
       "       [338],\n",
       "       [251],\n",
       "       [196],\n",
       "       [382],\n",
       "       [221],\n",
       "       [262],\n",
       "       [225],\n",
       "       [209],\n",
       "       [216],\n",
       "       [317],\n",
       "       [253],\n",
       "       [368],\n",
       "       [230],\n",
       "       [338],\n",
       "       [228],\n",
       "       [207],\n",
       "       [228],\n",
       "       [196],\n",
       "       [166],\n",
       "       [294],\n",
       "       [331],\n",
       "       [362],\n",
       "       [304],\n",
       "       [191],\n",
       "       [228],\n",
       "       [242],\n",
       "       [288],\n",
       "       [186],\n",
       "       [288],\n",
       "       [380],\n",
       "       [230],\n",
       "       [186],\n",
       "       [419],\n",
       "       [191],\n",
       "       [184],\n",
       "       [216],\n",
       "       [308],\n",
       "       [228],\n",
       "       [251],\n",
       "       [301],\n",
       "       [260],\n",
       "       [228],\n",
       "       [267],\n",
       "       [258],\n",
       "       [246],\n",
       "       [166],\n",
       "       [308],\n",
       "       [250],\n",
       "       [177],\n",
       "       [202],\n",
       "       [225],\n",
       "       [264],\n",
       "       [327],\n",
       "       [232],\n",
       "       [237],\n",
       "       [239],\n",
       "       [258],\n",
       "       [294],\n",
       "       [283],\n",
       "       [260],\n",
       "       [292],\n",
       "       [264],\n",
       "       [212],\n",
       "       [380],\n",
       "       [145],\n",
       "       [246],\n",
       "       [209],\n",
       "       [294],\n",
       "       [218],\n",
       "       [200],\n",
       "       [264],\n",
       "       [147],\n",
       "       [255],\n",
       "       [269],\n",
       "       [255],\n",
       "       [191],\n",
       "       [212],\n",
       "       [198],\n",
       "       [317],\n",
       "       [184],\n",
       "       [315],\n",
       "       [207],\n",
       "       [235],\n",
       "       [242],\n",
       "       [285],\n",
       "       [398],\n",
       "       [437],\n",
       "       [344],\n",
       "       [271],\n",
       "       [228],\n",
       "       [288],\n",
       "       [196],\n",
       "       [413],\n",
       "       [186],\n",
       "       [221],\n",
       "       [186],\n",
       "       [244],\n",
       "       [251],\n",
       "       [380],\n",
       "       [184],\n",
       "       [310],\n",
       "       [338],\n",
       "       [343],\n",
       "       [172],\n",
       "       [126],\n",
       "       [432],\n",
       "       [310],\n",
       "       [320],\n",
       "       [299],\n",
       "       [163],\n",
       "       [198],\n",
       "       [110],\n",
       "       [407],\n",
       "       [274],\n",
       "       [262],\n",
       "       [209],\n",
       "       [317],\n",
       "       [411],\n",
       "       [362],\n",
       "       [276],\n",
       "       [228],\n",
       "       [184],\n",
       "       [317],\n",
       "       [196],\n",
       "       [242],\n",
       "       [389],\n",
       "       [306],\n",
       "       [301],\n",
       "       [228],\n",
       "       [216],\n",
       "       [334],\n",
       "       [255],\n",
       "       [294],\n",
       "       [264],\n",
       "       [297],\n",
       "       [294],\n",
       "       [242],\n",
       "       [297],\n",
       "       [228],\n",
       "       [207],\n",
       "       [225],\n",
       "       [338],\n",
       "       [184],\n",
       "       [186],\n",
       "       [221],\n",
       "       [362],\n",
       "       [224],\n",
       "       [184],\n",
       "       [277],\n",
       "       [212],\n",
       "       [253]], dtype=int64)"
      ]
     },
     "execution_count": 35,
     "metadata": {},
     "output_type": "execute_result"
    }
   ],
   "source": [
    "y_test"
   ]
  },
  {
   "cell_type": "markdown",
   "metadata": {},
   "source": [
    "## Evaluation"
   ]
  },
  {
   "cell_type": "code",
   "execution_count": 36,
   "metadata": {},
   "outputs": [
    {
     "name": "stdout",
     "output_type": "stream",
     "text": [
      "Test Accuracy :  0.9917163853067663\n",
      "Training Accuracy :  0.999306772544736\n"
     ]
    }
   ],
   "source": [
    "from sklearn.metrics import r2_score\n",
    "accuracy = r2_score(y_test,yrdr)\n",
    "\n",
    "print(\"Test Accuracy : \",r2_score(y_test,yrdr))\n",
    "print(\"Training Accuracy : \",r2_score(yhat_train,y_train))\n"
   ]
  },
  {
   "cell_type": "code",
   "execution_count": 37,
   "metadata": {},
   "outputs": [
    {
     "data": {
      "text/plain": [
       "0.9917163853067663"
      ]
     },
     "execution_count": 37,
     "metadata": {},
     "output_type": "execute_result"
    }
   ],
   "source": [
    "accuracy"
   ]
  },
  {
   "cell_type": "code",
   "execution_count": 38,
   "metadata": {},
   "outputs": [
    {
     "data": {
      "text/plain": [
       "array([[174.98866667],\n",
       "       [262.008     ],\n",
       "       [265.64      ],\n",
       "       [229.062     ],\n",
       "       [237.062     ],\n",
       "       [271.91      ],\n",
       "       [391.494     ],\n",
       "       [315.938     ],\n",
       "       [274.434     ],\n",
       "       [255.        ],\n",
       "       [223.004     ],\n",
       "       [277.612     ],\n",
       "       [182.138     ],\n",
       "       [359.034     ],\n",
       "       [204.946     ],\n",
       "       [304.374     ],\n",
       "       [333.804     ],\n",
       "       [316.382     ],\n",
       "       [333.822     ],\n",
       "       [269.022     ],\n",
       "       [216.        ],\n",
       "       [193.006     ],\n",
       "       [234.87      ],\n",
       "       [245.072     ],\n",
       "       [209.056     ],\n",
       "       [241.974     ],\n",
       "       [158.7       ],\n",
       "       [174.998     ],\n",
       "       [197.972     ],\n",
       "       [196.        ],\n",
       "       [209.05      ],\n",
       "       [238.99      ],\n",
       "       [166.136     ],\n",
       "       [206.972     ],\n",
       "       [211.824     ],\n",
       "       [230.        ],\n",
       "       [280.226     ],\n",
       "       [213.972     ],\n",
       "       [302.684     ],\n",
       "       [289.868     ],\n",
       "       [255.284     ],\n",
       "       [315.506     ],\n",
       "       [223.008     ],\n",
       "       [260.        ],\n",
       "       [331.382     ],\n",
       "       [296.878     ],\n",
       "       [262.        ],\n",
       "       [261.368     ],\n",
       "       [371.206     ],\n",
       "       [371.154     ],\n",
       "       [260.008     ],\n",
       "       [260.744     ],\n",
       "       [278.026     ],\n",
       "       [332.56      ],\n",
       "       [191.008     ],\n",
       "       [179.        ],\n",
       "       [197.98      ],\n",
       "       [192.93      ],\n",
       "       [290.302     ],\n",
       "       [233.626     ],\n",
       "       [352.496     ],\n",
       "       [209.056     ],\n",
       "       [337.058     ],\n",
       "       [332.672     ],\n",
       "       [247.992     ],\n",
       "       [195.994     ],\n",
       "       [372.338     ],\n",
       "       [219.568     ],\n",
       "       [260.004     ],\n",
       "       [223.012     ],\n",
       "       [209.046     ],\n",
       "       [213.996     ],\n",
       "       [312.962     ],\n",
       "       [251.012     ],\n",
       "       [360.84      ],\n",
       "       [229.062     ],\n",
       "       [333.804     ],\n",
       "       [224.992     ],\n",
       "       [206.972     ],\n",
       "       [224.992     ],\n",
       "       [195.992     ],\n",
       "       [166.488     ],\n",
       "       [289.792     ],\n",
       "       [323.62      ],\n",
       "       [352.406     ],\n",
       "       [301.038     ],\n",
       "       [190.996     ],\n",
       "       [225.        ],\n",
       "       [238.922     ],\n",
       "       [283.016     ],\n",
       "       [186.608     ],\n",
       "       [278.224     ],\n",
       "       [371.818     ],\n",
       "       [229.062     ],\n",
       "       [185.786     ],\n",
       "       [408.2       ],\n",
       "       [191.        ],\n",
       "       [184.        ],\n",
       "       [213.988     ],\n",
       "       [304.89      ],\n",
       "       [225.        ],\n",
       "       [247.98      ],\n",
       "       [296.962     ],\n",
       "       [259.106     ],\n",
       "       [225.        ],\n",
       "       [265.71      ],\n",
       "       [255.        ],\n",
       "       [245.072     ],\n",
       "       [166.488     ],\n",
       "       [305.        ],\n",
       "       [248.206     ],\n",
       "       [176.318     ],\n",
       "       [200.034     ],\n",
       "       [223.        ],\n",
       "       [262.016     ],\n",
       "       [320.174     ],\n",
       "       [230.008     ],\n",
       "       [236.042     ],\n",
       "       [237.01      ],\n",
       "       [255.004     ],\n",
       "       [289.956     ],\n",
       "       [278.558     ],\n",
       "       [258.        ],\n",
       "       [289.624     ],\n",
       "       [258.284     ],\n",
       "       [211.958     ],\n",
       "       [371.132     ],\n",
       "       [143.658     ],\n",
       "       [245.266     ],\n",
       "       [208.948     ],\n",
       "       [290.322     ],\n",
       "       [216.01      ],\n",
       "       [199.996     ],\n",
       "       [261.998     ],\n",
       "       [148.116     ],\n",
       "       [253.972     ],\n",
       "       [265.612     ],\n",
       "       [253.972     ],\n",
       "       [190.996     ],\n",
       "       [212.012     ],\n",
       "       [197.972     ],\n",
       "       [311.052     ],\n",
       "       [184.        ],\n",
       "       [309.708     ],\n",
       "       [206.996     ],\n",
       "       [231.992     ],\n",
       "       [238.99      ],\n",
       "       [276.728     ],\n",
       "       [395.696     ],\n",
       "       [423.376     ],\n",
       "       [333.822     ],\n",
       "       [267.096     ],\n",
       "       [224.992     ],\n",
       "       [278.606     ],\n",
       "       [195.994     ],\n",
       "       [393.1       ],\n",
       "       [183.148     ],\n",
       "       [219.512     ],\n",
       "       [186.606     ],\n",
       "       [241.896     ],\n",
       "       [247.992     ],\n",
       "       [371.818     ],\n",
       "       [184.872     ],\n",
       "       [306.02      ],\n",
       "       [332.55      ],\n",
       "       [336.456     ],\n",
       "       [173.04470952],\n",
       "       [127.64      ],\n",
       "       [421.08      ],\n",
       "       [306.01      ],\n",
       "       [316.142     ],\n",
       "       [293.864     ],\n",
       "       [163.947     ],\n",
       "       [197.976     ],\n",
       "       [112.22      ],\n",
       "       [384.584     ],\n",
       "       [268.986     ],\n",
       "       [260.004     ],\n",
       "       [208.996     ],\n",
       "       [312.962     ],\n",
       "       [393.1       ],\n",
       "       [352.406     ],\n",
       "       [271.018     ],\n",
       "       [224.996     ],\n",
       "       [184.        ],\n",
       "       [313.134     ],\n",
       "       [196.038     ],\n",
       "       [238.996     ],\n",
       "       [382.174     ],\n",
       "       [302.676     ],\n",
       "       [297.256     ],\n",
       "       [224.996     ],\n",
       "       [213.992     ],\n",
       "       [316.728     ],\n",
       "       [253.984     ],\n",
       "       [289.892     ],\n",
       "       [263.83      ],\n",
       "       [292.282     ],\n",
       "       [291.204     ],\n",
       "       [238.936     ],\n",
       "       [291.89      ],\n",
       "       [225.        ],\n",
       "       [206.992     ],\n",
       "       [223.012     ],\n",
       "       [332.672     ],\n",
       "       [184.        ],\n",
       "       [183.148     ],\n",
       "       [219.568     ],\n",
       "       [352.406     ],\n",
       "       [211.824     ],\n",
       "       [183.992     ],\n",
       "       [273.284     ],\n",
       "       [211.97      ],\n",
       "       [251.012     ]])"
      ]
     },
     "execution_count": 38,
     "metadata": {},
     "output_type": "execute_result"
    }
   ],
   "source": [
    "yrdr=yrdr.reshape(214,1)\n",
    "yrdr"
   ]
  },
  {
   "cell_type": "code",
   "execution_count": 39,
   "metadata": {},
   "outputs": [
    {
     "data": {
      "text/plain": [
       "array([[175],\n",
       "       [264],\n",
       "       [267],\n",
       "       [230],\n",
       "       [239],\n",
       "       [276],\n",
       "       [396],\n",
       "       [334],\n",
       "       [278],\n",
       "       [258],\n",
       "       [225],\n",
       "       [283],\n",
       "       [182],\n",
       "       [366],\n",
       "       [205],\n",
       "       [308],\n",
       "       [338],\n",
       "       [320],\n",
       "       [344],\n",
       "       [274],\n",
       "       [218],\n",
       "       [193],\n",
       "       [195],\n",
       "       [246],\n",
       "       [209],\n",
       "       [244],\n",
       "       [159],\n",
       "       [175],\n",
       "       [198],\n",
       "       [196],\n",
       "       [209],\n",
       "       [242],\n",
       "       [166],\n",
       "       [207],\n",
       "       [224],\n",
       "       [232],\n",
       "       [294],\n",
       "       [216],\n",
       "       [306],\n",
       "       [294],\n",
       "       [258],\n",
       "       [320],\n",
       "       [225],\n",
       "       [262],\n",
       "       [334],\n",
       "       [301],\n",
       "       [264],\n",
       "       [275],\n",
       "       [380],\n",
       "       [380],\n",
       "       [262],\n",
       "       [262],\n",
       "       [283],\n",
       "       [338],\n",
       "       [191],\n",
       "       [179],\n",
       "       [198],\n",
       "       [193],\n",
       "       [294],\n",
       "       [237],\n",
       "       [359],\n",
       "       [209],\n",
       "       [340],\n",
       "       [338],\n",
       "       [251],\n",
       "       [196],\n",
       "       [382],\n",
       "       [221],\n",
       "       [262],\n",
       "       [225],\n",
       "       [209],\n",
       "       [216],\n",
       "       [317],\n",
       "       [253],\n",
       "       [368],\n",
       "       [230],\n",
       "       [338],\n",
       "       [228],\n",
       "       [207],\n",
       "       [228],\n",
       "       [196],\n",
       "       [166],\n",
       "       [294],\n",
       "       [331],\n",
       "       [362],\n",
       "       [304],\n",
       "       [191],\n",
       "       [228],\n",
       "       [242],\n",
       "       [288],\n",
       "       [186],\n",
       "       [288],\n",
       "       [380],\n",
       "       [230],\n",
       "       [186],\n",
       "       [419],\n",
       "       [191],\n",
       "       [184],\n",
       "       [216],\n",
       "       [308],\n",
       "       [228],\n",
       "       [251],\n",
       "       [301],\n",
       "       [260],\n",
       "       [228],\n",
       "       [267],\n",
       "       [258],\n",
       "       [246],\n",
       "       [166],\n",
       "       [308],\n",
       "       [250],\n",
       "       [177],\n",
       "       [202],\n",
       "       [225],\n",
       "       [264],\n",
       "       [327],\n",
       "       [232],\n",
       "       [237],\n",
       "       [239],\n",
       "       [258],\n",
       "       [294],\n",
       "       [283],\n",
       "       [260],\n",
       "       [292],\n",
       "       [264],\n",
       "       [212],\n",
       "       [380],\n",
       "       [145],\n",
       "       [246],\n",
       "       [209],\n",
       "       [294],\n",
       "       [218],\n",
       "       [200],\n",
       "       [264],\n",
       "       [147],\n",
       "       [255],\n",
       "       [269],\n",
       "       [255],\n",
       "       [191],\n",
       "       [212],\n",
       "       [198],\n",
       "       [317],\n",
       "       [184],\n",
       "       [315],\n",
       "       [207],\n",
       "       [235],\n",
       "       [242],\n",
       "       [285],\n",
       "       [398],\n",
       "       [437],\n",
       "       [344],\n",
       "       [271],\n",
       "       [228],\n",
       "       [288],\n",
       "       [196],\n",
       "       [413],\n",
       "       [186],\n",
       "       [221],\n",
       "       [186],\n",
       "       [244],\n",
       "       [251],\n",
       "       [380],\n",
       "       [184],\n",
       "       [310],\n",
       "       [338],\n",
       "       [343],\n",
       "       [172],\n",
       "       [126],\n",
       "       [432],\n",
       "       [310],\n",
       "       [320],\n",
       "       [299],\n",
       "       [163],\n",
       "       [198],\n",
       "       [110],\n",
       "       [407],\n",
       "       [274],\n",
       "       [262],\n",
       "       [209],\n",
       "       [317],\n",
       "       [411],\n",
       "       [362],\n",
       "       [276],\n",
       "       [228],\n",
       "       [184],\n",
       "       [317],\n",
       "       [196],\n",
       "       [242],\n",
       "       [389],\n",
       "       [306],\n",
       "       [301],\n",
       "       [228],\n",
       "       [216],\n",
       "       [334],\n",
       "       [255],\n",
       "       [294],\n",
       "       [264],\n",
       "       [297],\n",
       "       [294],\n",
       "       [242],\n",
       "       [297],\n",
       "       [228],\n",
       "       [207],\n",
       "       [225],\n",
       "       [338],\n",
       "       [184],\n",
       "       [186],\n",
       "       [221],\n",
       "       [362],\n",
       "       [224],\n",
       "       [184],\n",
       "       [277],\n",
       "       [212],\n",
       "       [253]], dtype=int64)"
      ]
     },
     "execution_count": 39,
     "metadata": {},
     "output_type": "execute_result"
    }
   ],
   "source": [
    "y_test"
   ]
  },
  {
   "cell_type": "code",
   "execution_count": 40,
   "metadata": {},
   "outputs": [
    {
     "data": {
      "text/plain": [
       "array([379.948])"
      ]
     },
     "execution_count": 40,
     "metadata": {},
     "output_type": "execute_result"
    }
   ],
   "source": [
    "rdr.predict([[ 0. ,  0. ,  1. ,  0. ,  1.8,  4. , 20. ,  9.5,  6.5,  8.2, 34. ]])"
   ]
  },
  {
   "cell_type": "markdown",
   "metadata": {},
   "source": [
    "## Saving the Model  "
   ]
  },
  {
   "cell_type": "code",
   "execution_count": 41,
   "metadata": {},
   "outputs": [],
   "source": [
    "pickle.dump(rdr,open('carco2new.pkl','wb'))"
   ]
  },
  {
   "cell_type": "code",
   "execution_count": null,
   "metadata": {},
   "outputs": [],
   "source": []
  }
 ],
 "metadata": {
  "kernelspec": {
   "display_name": "Python 3",
   "language": "python",
   "name": "python3"
  },
  "language_info": {
   "codemirror_mode": {
    "name": "ipython",
    "version": 3
   },
   "file_extension": ".py",
   "mimetype": "text/x-python",
   "name": "python",
   "nbconvert_exporter": "python",
   "pygments_lexer": "ipython3",
   "version": "3.7.6"
  }
 },
 "nbformat": 4,
 "nbformat_minor": 4
}
